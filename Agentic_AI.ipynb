{
  "cells": [
    {
      "cell_type": "markdown",
      "metadata": {
        "id": "view-in-github",
        "colab_type": "text"
      },
      "source": [
        "<a href=\"https://colab.research.google.com/github/ritwiks9635/Mini-Agentic-AI/blob/main/Agentic_AI.ipynb\" target=\"_parent\"><img src=\"https://colab.research.google.com/assets/colab-badge.svg\" alt=\"Open In Colab\"/></a>"
      ]
    },
    {
      "cell_type": "markdown",
      "source": [
        "# **AI Engineer Assignment**"
      ],
      "metadata": {
        "id": "Ez24WtedPxIn"
      }
    },
    {
      "cell_type": "code",
      "source": [
        "!pip install langchain\n",
        "!pip install langgraph\n",
        "!pip install pinecone-client[grpc]\n",
        "!pip install -U langsmith\n",
        "!pip install pypdf\n",
        "!pip install streamlit\n",
        "!pip install -U langchain-community\n",
        "!pip install -qU langchain-pinecone"
      ],
      "metadata": {
        "id": "8mMKR6FYy63u",
        "collapsed": true
      },
      "execution_count": null,
      "outputs": []
    },
    {
      "cell_type": "code",
      "source": [
        "%pip install -U -q \"google-generativeai>=0.8.3\"\n",
        "%pip install --upgrade --quiet  langchain-google-genai"
      ],
      "metadata": {
        "id": "PFezMtjay68_"
      },
      "execution_count": null,
      "outputs": []
    },
    {
      "cell_type": "code",
      "source": [
        "import os\n",
        "import json\n",
        "import requests\n",
        "import numpy as np\n",
        "import langchain\n",
        "import langgraph\n",
        "from langgraph.graph import Graph\n",
        "from langgraph.graph import StateGraph\n",
        "\n",
        "from langsmith import traceable, Client\n",
        "from pydantic import BaseModel, Field\n",
        "\n",
        "from typing import TypedDict, Optional\n",
        "from langchain.prompts import PromptTemplate\n",
        "\n",
        "import google.generativeai as genai\n",
        "from langchain_google_genai import GoogleGenerativeAIEmbeddings\n",
        "from langchain_community.document_loaders import PyPDFLoader\n",
        "\n",
        "\n",
        "from langchain_google_genai import ChatGoogleGenerativeAI\n",
        "from langchain.text_splitter import RecursiveCharacterTextSplitter\n",
        "from langchain.chains import RetrievalQA\n",
        "from langchain.schema import Document"
      ],
      "metadata": {
        "id": "KuAK8ROZy7DL"
      },
      "execution_count": null,
      "outputs": []
    },
    {
      "cell_type": "code",
      "source": [
        "from langsmith import traceable, Client"
      ],
      "metadata": {
        "id": "PwPok2tfuNrq"
      },
      "execution_count": null,
      "outputs": []
    },
    {
      "cell_type": "markdown",
      "source": [
        "## **Setup Pinecone**"
      ],
      "metadata": {
        "id": "k57HqswBFZDK"
      }
    },
    {
      "cell_type": "code",
      "source": [
        "# Create Pinecone index\n",
        "index_name = 'qa-bot'\n",
        "PINE_API_KEY = os.getenv(\"PINECONE_API_KEY\")\n",
        "from pinecone.grpc import PineconeGRPC as Pinecone\n",
        "from pinecone import ServerlessSpec\n",
        "\n",
        "pc = Pinecone(api_key=PINE_API_KEY)\n",
        "\n",
        "pc.create_index(\n",
        "    name=index_name,\n",
        "    dimension=768,\n",
        "    metric='cosine',\n",
        "    spec=ServerlessSpec(\n",
        "      cloud=\"aws\",\n",
        "      region=\"us-east-1\"\n",
        "    )\n",
        "  )\n",
        "\n",
        "index = pc.Index(index_name)"
      ],
      "metadata": {
        "id": "Id8-JhgMy7Kd",
        "collapsed": true
      },
      "execution_count": null,
      "outputs": []
    },
    {
      "cell_type": "markdown",
      "source": [
        "### **Build LangGraph Node**"
      ],
      "metadata": {
        "id": "_ghVyMR5ueBx"
      }
    },
    {
      "cell_type": "code",
      "source": [
        "class PipelineState(TypedDict):\n",
        "    user_query: str\n",
        "    action: Optional[str]\n",
        "    response: Optional[str]"
      ],
      "metadata": {
        "id": "jbfp8yauXqrM"
      },
      "execution_count": null,
      "outputs": []
    },
    {
      "cell_type": "code",
      "source": [
        "def decision_node(state: PipelineState):\n",
        "    query = state[\"user_query\"]\n",
        "\n",
        "    llm = ChatGoogleGenerativeAI(model=\"gemini-1.5-flash-latest\")\n",
        "\n",
        "    classification_prompt = f\"\"\"\n",
        "    Classify this query as either 'weather', 'rag', or 'general'.\n",
        "    - If it is asking about weather conditions, classify as 'weather'.\n",
        "    - If it is asking about information from a provided document, classify as 'rag'.\n",
        "    - If the query does not fit into these categories, classify as 'general'.\n",
        "\n",
        "    Query: {query}\n",
        "    \"\"\"\n",
        "\n",
        "    action = llm.invoke(classification_prompt)\n",
        "\n",
        "    # Ensure action is valid\n",
        "    action_str = action.content.lower()\n",
        "    if action_str not in [\"weather\", \"rag\", \"general\"]:\n",
        "        action_str = \"general\"\n",
        "    else :\n",
        "        action_str = action.content.lower()\n",
        "\n",
        "    return {\"action\": action_str}"
      ],
      "metadata": {
        "id": "yWdmqgihUPO1"
      },
      "execution_count": null,
      "outputs": []
    },
    {
      "cell_type": "markdown",
      "source": [
        "### **Weather API Call**"
      ],
      "metadata": {
        "id": "WYcSgKntwFzU"
      }
    },
    {
      "cell_type": "code",
      "source": [
        "llm = ChatGoogleGenerativeAI(model=\"gemini-1.5-flash-latest\", temperature=0)\n",
        "\n",
        "# Prompt template for extracting city name\n",
        "city_extraction_prompt = PromptTemplate.from_template(\n",
        "    \"Extract the city name from this query: {query}. If no city is found, return 'None'.\"\n",
        ")\n",
        "\n",
        "def fetch_weather(state: PipelineState):\n",
        "    user_query = state[\"user_query\"]\n",
        "\n",
        "    # Ask Gemini LLM to extract the city name\n",
        "    prompt = city_extraction_prompt.format(query=user_query)\n",
        "    city = llm.invoke(prompt)\n",
        "\n",
        "    if city.content.lower() == \"none\":\n",
        "        return {\"response\": \"I couldn't determine the city name. Please specify a valid location.\"}\n",
        "\n",
        "    api_key = os.getenv(\"OPENWEATHER_API_KEY\")\n",
        "    url = f\"http://api.openweathermap.org/data/2.5/weather?q={city.content}&appid={api_key}&units=metric\"\n",
        "\n",
        "    response = requests.get(url).json()\n",
        "\n",
        "    if response.get(\"main\"):\n",
        "        weather_info = f\"Current weather in {city.content}: {response['weather'][0]['description']}, Temperature: {response['main']['temp']}°C.\"\n",
        "    else:\n",
        "        weather_info = \"Weather data not available. Please check the city name.\"\n",
        "\n",
        "    return {\"response\": weather_info}"
      ],
      "metadata": {
        "id": "Kt8799r5cAhb"
      },
      "execution_count": null,
      "outputs": []
    },
    {
      "cell_type": "code",
      "source": [
        "# Load PDF\n",
        "def load_and_split_pdf(pdf_path):\n",
        "    loader = PyPDFLoader(pdf_path)\n",
        "    documents = loader.load()\n",
        "\n",
        "    # Split documents into smaller chunks\n",
        "    text_splitter = RecursiveCharacterTextSplitter(chunk_size=500, chunk_overlap=50)\n",
        "    docs = text_splitter.split_documents(documents)\n",
        "\n",
        "    return docs"
      ],
      "metadata": {
        "id": "02Qa3LX6U2Yw"
      },
      "execution_count": null,
      "outputs": []
    },
    {
      "cell_type": "markdown",
      "source": [
        "###  **Generate Embeddings**"
      ],
      "metadata": {
        "id": "Aeba6ZdGx9Wm"
      }
    },
    {
      "cell_type": "code",
      "source": [
        "import time\n",
        "\n",
        "def get_gemini_embeddings(texts, batch_size = 10):\n",
        "    model = GoogleGenerativeAIEmbeddings(model=\"models/text-embedding-004\", task_type=\"retrieval_document\")\n",
        "    embeddings = []\n",
        "\n",
        "    for i in range(0, len(texts), batch_size):\n",
        "        batch = texts[i : i + batch_size]\n",
        "\n",
        "        try:\n",
        "            response = model.embed_documents(batch)\n",
        "            batch_embeddings = [item for item in response]\n",
        "            embeddings.extend(batch_embeddings)\n",
        "\n",
        "        except Exception as e:\n",
        "            print(f\"Error in batch {i}: {e}\")\n",
        "            time.sleep(5)\n",
        "    return np.array(embeddings)"
      ],
      "metadata": {
        "id": "xAPp2FRvV72d"
      },
      "execution_count": null,
      "outputs": []
    },
    {
      "cell_type": "markdown",
      "source": [
        "### **Strore Embedding in Pinecone**"
      ],
      "metadata": {
        "id": "TVDaXloCyEzS"
      }
    },
    {
      "cell_type": "code",
      "source": [
        "def store_in_pinecone(docs):\n",
        "    texts = [doc.page_content for doc in docs]\n",
        "    embeddings = get_gemini_embeddings(texts)\n",
        "\n",
        "    # Store vectors in Pinecone\n",
        "    for i, (text, vector) in enumerate(zip(texts, embeddings)):\n",
        "        index.upsert([(str(i), vector.tolist(), {\"text\": text})])\n",
        "\n",
        "    print(\"Stored documents in Pinecone successfully!\")"
      ],
      "metadata": {
        "id": "m1kcOiOQZHpm"
      },
      "execution_count": null,
      "outputs": []
    },
    {
      "cell_type": "code",
      "source": [
        "pdf_path = \"/content/Gen AI Engineer - Machine Learning Engineer Assignment.pdf\"\n",
        "docs = load_and_split_pdf(pdf_path)\n",
        "store_in_pinecone(docs)"
      ],
      "metadata": {
        "colab": {
          "base_uri": "https://localhost:8080/"
        },
        "id": "_1rZuqmTZeQj",
        "outputId": "1d2d6998-350a-43cf-c769-5fc63aab4079"
      },
      "execution_count": null,
      "outputs": [
        {
          "output_type": "stream",
          "name": "stdout",
          "text": [
            "Stored documents in Pinecone successfully!\n"
          ]
        }
      ]
    },
    {
      "cell_type": "markdown",
      "source": [
        "### **Build RAG Pipeline**"
      ],
      "metadata": {
        "id": "yPb3xM99y-Az"
      }
    },
    {
      "cell_type": "code",
      "source": [
        "llm_model = ChatGoogleGenerativeAI(model=\"gemini-1.5-flash-latest\")\n",
        "\n",
        "def get_gemini_embedding(query):\n",
        "    \"\"\"Generate embeddings for the user query.\"\"\"\n",
        "    model = GoogleGenerativeAIEmbeddings(model=\"models/text-embedding-004\", task_type=\"retrieval_query\")\n",
        "    embedding = model.embed_query(query)\n",
        "    return np.array(embedding)\n",
        "\n",
        "def retrieve_relevant_docs(query, top_k=3):\n",
        "    \"\"\"Retrieve the most relevant documents from Pinecone.\"\"\"\n",
        "    query_vector = get_gemini_embedding(query).tolist()\n",
        "    results = index.query(vector=query_vector, top_k=top_k, include_metadata=True)\n",
        "\n",
        "    # Extract relevant texts\n",
        "    retrieved_texts = [match[\"metadata\"][\"text\"] for match in results[\"matches\"]]\n",
        "\n",
        "    return retrieved_texts\n",
        "\n",
        "def generate_rag_response(query):\n",
        "    \"\"\"Use RAG to fetch relevant documents and generate an answer.\"\"\"\n",
        "    retrieved_docs = retrieve_relevant_docs(query)\n",
        "    docs = \"\\n\\n\".join(retrieved_docs)\n",
        "\n",
        "    # Generate response using Gemini LLM\n",
        "    instructions = f\"\"\"You are a helpful assistant who is good at analyzing source information and answering questions.\n",
        "    Use the following source documents to answer the user's questions.\n",
        "    If you don't know the answer, just say that you don't know.\n",
        "    Use three sentences maximum and keep the answer concise.\n",
        "\n",
        "    Documents:\n",
        "    {docs}\"\"\"\n",
        "\n",
        "    response = llm_model.invoke([\n",
        "            {\"role\": \"system\", \"content\": instructions},\n",
        "            {\"role\": \"user\", \"content\": query},\n",
        "        ],\n",
        "    )\n",
        "    return response.content"
      ],
      "metadata": {
        "id": "ZGWTQ7ehhdDH"
      },
      "execution_count": null,
      "outputs": []
    },
    {
      "cell_type": "code",
      "source": [
        "query = \"which type of dataset required to build this question answering model?\"\n",
        "response = generate_rag_response(query)\n",
        "print(\"Generated Answer:\\n\", response)"
      ],
      "metadata": {
        "colab": {
          "base_uri": "https://localhost:8080/"
        },
        "id": "WbHUQKatiqX2",
        "outputId": "9ca27d3f-6643-434b-c266-ba6c2deef0a1"
      },
      "execution_count": null,
      "outputs": [
        {
          "output_type": "stream",
          "name": "stdout",
          "text": [
            "Generated Answer:\n",
            " A Profit & Loss (P&L) table extracted from PDF documents is needed.  The model also uses a vector database to store embeddings of financial terms and insights.  This allows for efficient retrieval of relevant information.\n"
          ]
        }
      ]
    },
    {
      "cell_type": "code",
      "source": [
        "def retrieve_from_pinecone(state: PipelineState):\n",
        "    query = state[\"user_query\"]\n",
        "\n",
        "    # Load Pinecone as the retriever\n",
        "    responce = generate_rag_response(query)\n",
        "\n",
        "    return {\"response\": response}"
      ],
      "metadata": {
        "id": "sYf_XG9YYCFa"
      },
      "execution_count": null,
      "outputs": []
    },
    {
      "cell_type": "markdown",
      "source": [
        "### **General Response**"
      ],
      "metadata": {
        "id": "JJTK5nYZzXag"
      }
    },
    {
      "cell_type": "code",
      "source": [
        "def general_response(state: PipelineState):\n",
        "    query = state[\"user_query\"]\n",
        "\n",
        "    instructions = f\"\"\"\n",
        "    You are a helpful assistant, as a professional expert,\n",
        "    provide a concise and informative answer to the following question,\n",
        "    ensuring accuracy and addressing all relevant aspects, even if the\n",
        "    question appears broad or open-ended. Answer the following Question concisely.\n",
        "    \"\"\"\n",
        "\n",
        "    llm_model = ChatGoogleGenerativeAI(model=\"gemini-1.5-flash-latest\")\n",
        "\n",
        "    response = llm_model.invoke([\n",
        "            {\"role\": \"system\", \"content\": instructions},\n",
        "            {\"role\": \"user\", \"content\": query},\n",
        "        ],\n",
        "    )\n",
        "    return {\"response\": response.content}"
      ],
      "metadata": {
        "id": "qfpv34hYh-SO"
      },
      "execution_count": null,
      "outputs": []
    },
    {
      "cell_type": "code",
      "source": [
        "# Create LangGraph workflow\n",
        "workflow = StateGraph(PipelineState)\n",
        "\n",
        "# Add nodes\n",
        "workflow.add_node(\"decision\", decision_node)\n",
        "workflow.add_node(\"weather\", fetch_weather)\n",
        "workflow.add_node(\"rag\", retrieve_from_pinecone)\n",
        "workflow.add_node(\"general\", general_response)\n",
        "\n",
        "# Define edges (execution flow)\n",
        "workflow.set_entry_point(\"decision\")\n",
        "workflow.add_conditional_edges(\n",
        "    \"decision\",\n",
        "    lambda state: state[\"action\"],\n",
        "    {\n",
        "        \"weather\": \"weather\",\n",
        "        \"rag\": \"rag\",\n",
        "        \"general\": \"general\",\n",
        "    }\n",
        ")\n",
        "\n",
        "# Finalize the graph\n",
        "graph = workflow.compile()"
      ],
      "metadata": {
        "id": "v_Tf8qaNiKl7"
      },
      "execution_count": null,
      "outputs": []
    },
    {
      "cell_type": "code",
      "source": [
        "graph"
      ],
      "metadata": {
        "colab": {
          "base_uri": "https://localhost:8080/",
          "height": 254
        },
        "id": "-4I7-iNVVmhf",
        "outputId": "96971327-642c-49a8-8555-dd4463cc6222"
      },
      "execution_count": null,
      "outputs": [
        {
          "output_type": "execute_result",
          "data": {
            "text/plain": [
              "<langgraph.graph.state.CompiledStateGraph object at 0x783c80a92b90>"
            ],
            "image/png": "[encoded data removed]"
          },
          "metadata": {},
          "execution_count": 21
        }
      ]
    },
    {
      "cell_type": "markdown",
      "source": [
        "### **Test LangGraph Performance**"
      ],
      "metadata": {
        "id": "g3vOXaINzlJg"
      }
    },
    {
      "cell_type": "code",
      "source": [
        "user_input = \"What is the weather in Durgapur?\"\n",
        "\n",
        "state = {\"user_query\": user_input, \"action\": None, \"response\": None}\n",
        "output = graph.invoke(state)\n",
        "print(output)"
      ],
      "metadata": {
        "id": "IHviBJmNiakR",
        "colab": {
          "base_uri": "https://localhost:8080/"
        },
        "outputId": "ec23fd01-3f36-47f1-921a-15a01bb454bf"
      },
      "execution_count": null,
      "outputs": [
        {
          "output_type": "stream",
          "name": "stdout",
          "text": [
            "{'user_query': 'What is the weather in Durgapur?', 'action': 'weather', 'response': 'Current weather in Durgapur: few clouds, Temperature: 28.65°C.'}\n"
          ]
        }
      ]
    },
    {
      "cell_type": "code",
      "source": [
        "user_input = \"which type of dataset required to build this question answering model in this pdf?\"\n",
        "\n",
        "state = {\"user_query\": user_input, \"action\": None, \"response\": None}\n",
        "output = graph.invoke(state)\n",
        "print(output)"
      ],
      "metadata": {
        "colab": {
          "base_uri": "https://localhost:8080/"
        },
        "id": "yFw0d31cntw5",
        "outputId": "b74dcc04-1b33-4eb8-8045-3b63ef98eb2e"
      },
      "execution_count": null,
      "outputs": [
        {
          "output_type": "stream",
          "name": "stdout",
          "text": [
            "{'user_query': 'which type of dataset required to build this question answering model in this pdf?', 'action': 'rag', 'response': 'A Profit & Loss (P&L) table extracted from PDF documents is needed.  The model also uses a vector database to store embeddings of financial terms and insights.  This allows for efficient retrieval of relevant information.'}\n"
          ]
        }
      ]
    },
    {
      "cell_type": "code",
      "source": [
        "user_input = \"What is Machine Learning\"\n",
        "\n",
        "state = {\"user_query\": user_input, \"action\": None, \"response\": None}\n",
        "output = graph.invoke(state)\n",
        "print(output)"
      ],
      "metadata": {
        "colab": {
          "base_uri": "https://localhost:8080/"
        },
        "id": "yQ9k-Bz4v-Z4",
        "outputId": "44885600-2051-4f7c-fd9f-d0eef3fb0dcf"
      },
      "execution_count": null,
      "outputs": [
        {
          "output_type": "stream",
          "name": "stdout",
          "text": [
            "{'user_query': 'What is Machine Learning', 'action': 'general', 'response': 'Machine learning (ML) is a subfield of artificial intelligence (AI) that focuses on enabling computer systems to learn from data without explicit programming.  Instead of relying on pre-programmed rules, ML algorithms identify patterns, make predictions, and improve their performance over time based on the data they are exposed to.  This learning process can be supervised (using labeled data), unsupervised (using unlabeled data), or reinforcement learning (using rewards and penalties).  ML powers numerous applications, including image recognition, natural language processing, and recommendation systems.'}\n"
          ]
        }
      ]
    },
    {
      "cell_type": "markdown",
      "source": [
        "## **Evaluate Q & A model**"
      ],
      "metadata": {
        "id": "qCdM4nC3zvGq"
      }
    },
    {
      "cell_type": "code",
      "source": [
        "# Initialize LangChain LLM\n",
        "llm_model = ChatGoogleGenerativeAI(model=\"gemini-1.5-flash-latest\", temperature=1)\n",
        "\n",
        "# Define the RAG bot function\n",
        "@traceable()\n",
        "def rag_bot(question: str) -> dict:\n",
        "    docs = retrieve_relevant_docs(question)\n",
        "    docs_string = \"\\n\\n\".join(docs)\n",
        "\n",
        "    instructions = f\"\"\"You are a helpful assistant who is good at analyzing source information and answering questions.\n",
        "    Use the following source documents to answer the user's questions.\n",
        "    If you don't know the answer, just say that you don't know.\n",
        "    Use three sentences maximum and keep the answer concise.\n",
        "\n",
        "    Documents:\n",
        "    {docs_string}\"\"\"\n",
        "\n",
        "    ai_msg = llm_model.invoke([\n",
        "            {\"role\": \"system\", \"content\": instructions},\n",
        "            {\"role\": \"user\", \"content\": question},\n",
        "        ],\n",
        "    )\n",
        "\n",
        "    return {\"answer\": ai_msg.content, \"documents\": docs}\n",
        "\n",
        "# Initialize LangSmith client\n",
        "client = Client()\n",
        "\n",
        "# Create dataset and examples\n",
        "dataset_name = \"Q&A Model for Evaluation \"\n",
        "dataset = client.create_dataset(dataset_name=dataset_name)\n",
        "\n",
        "examples = [\n",
        "    (\"What the main goal in this PDF assignment?\",\n",
        "     \"The main goal of this PDF assignment is to build a question-answering (QA) bot that can accurately answer questions about financial data extracted from P&L tables within PDF documents.  This involves two parts:  first, developing a Retrieval-Augmented Generation (RAG) model to efficiently retrieve relevant financial information; and second, creating an interactive user interface allowing users to upload PDFs, ask questions, and receive answers alongside supporting data from the document..\"),\n",
        "    (\"What platform use to build this question answering model in this PDF assignment?\",\n",
        "     \"The provided text doesn't specify the platform used to build the question-answering model.  It mentions using a vector database like Pinecone for storing and retrieving embeddings, and it describes the functionality of a RAG model, but it doesn't state the specific platform (e.g., Python with specific libraries, a cloud-based platform like AWS or Google Cloud, etc.) used for its development.\"),\n",
        "    (\"which type of dataset required to build this question answering model?\",\n",
        "     \"A Profit & Loss (P&L) table extracted from PDF documents is the required dataset.  The model uses this data to answer financial questions.  The P&L table should contain information on income, expenses, and profit margins.\"),\n",
        "]\n",
        "\n",
        "client.create_examples(\n",
        "    inputs=[{\"question\": q} for q, _ in examples],\n",
        "    outputs=[{\"answer\": a} for _, a in examples],\n",
        "    dataset_id=dataset.id,\n",
        ")\n",
        "\n",
        "### Define Evaluators\n",
        "\n",
        "# Correctness Evaluation\n",
        "class CorrectnessGrade(BaseModel):\n",
        "    explanation: str = Field(description = \"Explain your reasoning for the score\")\n",
        "    correct: bool = Field(description = \"True if the answer is correct, False otherwise.\")\n",
        "\n",
        "correctness_instructions = \"\"\"You are a teacher grading a quiz.\n",
        "Grade the student answers based ONLY on their factual accuracy relative to the ground truth answer.\n",
        "A correctness value of True means the answer is correct. False means it is not. Explain your reasoning.\"\"\"\n",
        "\n",
        "llm_grader = ChatGoogleGenerativeAI(model=\"gemini-1.5-flash-latest\", temperature=0).with_structured_output(CorrectnessGrade)\n",
        "\n",
        "def correctness(inputs: dict, outputs: dict, reference_outputs: dict) -> bool:\n",
        "    answers = f\"\"\"QUESTION: {inputs['question']}\n",
        "    GROUND TRUTH ANSWER: {reference_outputs['answer']}\n",
        "    STUDENT ANSWER: {outputs['answer']}\"\"\"\n",
        "\n",
        "    grade = llm_grader.invoke([{\"role\": \"system\", \"content\": correctness_instructions}, {\"role\": \"user\", \"content\": answers}])\n",
        "    return grade.correct\n",
        "\n",
        "# Relevance Evaluation\n",
        "class RelevanceGrade(BaseModel):\n",
        "    explanation: str = Field(description = \"Explain your reasoning for the score\")\n",
        "    relevant: bool = Field(description = \"True if the answer is relevant to the question\")\n",
        "\n",
        "relevance_instructions = \"\"\"You are a teacher grading a quiz.\n",
        "Ensure the student's answer is concise and relevant to the question.\n",
        "A relevance value of True means the answer meets these criteria; False means it does not.\"\"\"\n",
        "\n",
        "relevance_llm = ChatGoogleGenerativeAI(model=\"gemini-1.5-flash-latest\", temperature=0).with_structured_output(RelevanceGrade)\n",
        "\n",
        "def relevance(inputs: dict, outputs: dict) -> bool:\n",
        "    answer = f\"\"\"QUESTION: {inputs['question']}\n",
        "STUDENT ANSWER: {outputs['answer']}\"\"\"\n",
        "\n",
        "    grade = relevance_llm.invoke([{\"role\": \"system\", \"content\": relevance_instructions}, {\"role\": \"user\", \"content\": answer}])\n",
        "    return grade.relevant\n",
        "\n",
        "# Groundedness Evaluation\n",
        "class GroundedGrade(BaseModel):\n",
        "    explanation: str = Field(description = \"Explain your reasoning for the score\")\n",
        "    grounded: bool = Field(description = \"True if the answer is based on the provided documents\")\n",
        "\n",
        "grounded_instructions = \"\"\"You are a teacher grading a quiz.\n",
        "Ensure the student's answer is grounded in the provided documents and does not include hallucinated information.\n",
        "A grounded value of True means the answer is well-supported; False means it is not.\"\"\"\n",
        "\n",
        "grounded_llm = ChatGoogleGenerativeAI(model=\"gemini-1.5-flash-latest\", temperature=0).with_structured_output(GroundedGrade)\n",
        "\n",
        "def groundedness(inputs: dict, outputs: dict) -> bool:\n",
        "    doc_string = \"\\n\".join(doc for doc in outputs[\"documents\"])\n",
        "    answer = f\"\"\"FACTS: {doc_string}\n",
        "STUDENT ANSWER: {outputs['answer']}\"\"\"\n",
        "\n",
        "    grade = grounded_llm.invoke([{\"role\": \"system\", \"content\": grounded_instructions}, {\"role\": \"user\", \"content\": answer}])\n",
        "    return grade.grounded\n",
        "\n",
        "# Define the evaluation target\n",
        "def target(inputs: dict) -> dict:\n",
        "    return rag_bot(inputs[\"question\"])\n",
        "\n",
        "# Run the evaluation\n",
        "experiment_results = client.evaluate(\n",
        "    target,\n",
        "    data=dataset_name,\n",
        "    evaluators=[correctness, relevance, groundedness],\n",
        "    experiment_prefix=\"rag-doc-relevance\",\n",
        "    metadata={\"version\": \"1.0\"}\n",
        ")"
      ],
      "metadata": {
        "id": "_CCYFM1vtj8_",
        "colab": {
          "base_uri": "https://localhost:8080/",
          "height": 138,
          "referenced_widgets": [
            "b5302176cbb849069da50e46483ac093",
            "88a2b72bf11b4ef5af57ff3e65dcd578",
            "6295b201c83d499c925ca4140007af28",
            "08cbe880c7b542fcb1febace0b58375e",
            "36aa65391552403eae5a081b5cfd5819",
            "edb187f5218941d1869157a42624ca4b",
            "7d00655246254c8f9d205ac7d140de74",
            "c9506c24c79e42eb9c30af33899ec73a",
            "22660f1a37fc4f6c8aba3762002db15a",
            "72665e9082d5439fa853e6aeb44d0f91",
            "ee3f1d82392c4ad8ba0506230481fcbe"
          ]
        },
        "outputId": "f1477af7-cff7-4140-dbcf-f430eed16971"
      },
      "execution_count": 23,
      "outputs": [
        {
          "output_type": "stream",
          "name": "stdout",
          "text": [
            "View the evaluation results for experiment: 'rag-doc-relevance-0d6084b8' at:\n",
            "https://smith.langchain.com/o/1a930940-6f2b-4a80-a11b-277499a43884/datasets/e79890b3-b7d9-4b01-b4f4-d3646bb3d00b/compare?selectedSessions=7b29503f-fd16-44b5-9aae-c6deb4c5733d\n",
            "\n",
            "\n"
          ]
        },
        {
          "output_type": "display_data",
          "data": {
            "text/plain": [
              "0it [00:00, ?it/s]"
            ],
            "application/vnd.jupyter.widget-view+json": {
              "version_major": 2,
              "version_minor": 0,
              "model_id": "b5302176cbb849069da50e46483ac093"
            }
          },
          "metadata": {}
        }
      ]
    },
    {
      "cell_type": "markdown",
      "source": [
        "### **Test Cases**"
      ],
      "metadata": {
        "id": "5H_iq_UA1OVO"
      }
    },
    {
      "cell_type": "code",
      "source": [
        "!pip install pytest"
      ],
      "metadata": {
        "id": "aivr6-Ok2IoZ",
        "colab": {
          "base_uri": "https://localhost:8080/"
        },
        "outputId": "f5a80186-d843-414d-f42f-76a59806de6e"
      },
      "execution_count": null,
      "outputs": [
        {
          "output_type": "stream",
          "name": "stdout",
          "text": [
            "Requirement already satisfied: pytest in /usr/local/lib/python3.11/dist-packages (8.3.4)\n",
            "Requirement already satisfied: iniconfig in /usr/local/lib/python3.11/dist-packages (from pytest) (2.0.0)\n",
            "Requirement already satisfied: packaging in /usr/local/lib/python3.11/dist-packages (from pytest) (24.2)\n",
            "Requirement already satisfied: pluggy<2,>=1.5 in /usr/local/lib/python3.11/dist-packages (from pytest) (1.5.0)\n"
          ]
        }
      ]
    },
    {
      "cell_type": "code",
      "source": [
        "os.makedirs(\"pipeline\")\n",
        "os.makedirs(\"test\")"
      ],
      "metadata": {
        "id": "1Z8VuoDurXEh"
      },
      "execution_count": 24,
      "outputs": []
    },
    {
      "cell_type": "code",
      "source": [
        "%%writefile /content/pipeline/pipeline.py\n",
        "import os\n",
        "import json\n",
        "import time\n",
        "import requests\n",
        "import numpy as np\n",
        "import langchain\n",
        "import langgraph\n",
        "from dotenv import load_dotenv\n",
        "from langgraph.graph import Graph\n",
        "from langgraph.graph import StateGraph\n",
        "\n",
        "from langsmith import traceable, Client\n",
        "from pydantic import BaseModel, Field\n",
        "\n",
        "from typing import TypedDict, Optional\n",
        "from langchain.prompts import PromptTemplate\n",
        "\n",
        "import google.generativeai as genai\n",
        "\n",
        "from langchain_pinecone import PineconeVectorStore\n",
        "from langchain_community.document_loaders import PyPDFLoader\n",
        "\n",
        "# Import the required classes directly\n",
        "from langchain_google_genai import ChatGoogleGenerativeAI, GoogleGenerativeAIEmbeddings\n",
        "from langchain.text_splitter import RecursiveCharacterTextSplitter\n",
        "from langchain.chains import RetrievalQA\n",
        "from langchain.schema import Document\n",
        "\n",
        "index_name = 'qa-bot'\n",
        "PINE_API_KEY = os.getenv(\"PINECONE_API_KEY\")\n",
        "from pinecone.grpc import PineconeGRPC as Pinecone\n",
        "from pinecone import ServerlessSpec\n",
        "\n",
        "pc = Pinecone(api_key=PINE_API_KEY)\n",
        "index = pc.Index(index_name)\n",
        "\n",
        "class PipelineState(TypedDict):\n",
        "    user_query: str\n",
        "    action: Optional[str]\n",
        "    response: Optional[str]\n",
        "\n",
        "def decision_node(state: PipelineState):\n",
        "    query = state[\"user_query\"]\n",
        "\n",
        "    llm = ChatGoogleGenerativeAI(model=\"gemini-1.5-flash-latest\")\n",
        "\n",
        "    classification_prompt = f\"\"\"\n",
        "    Classify this query as either 'weather', 'rag', or 'general'.\n",
        "    - If it is asking about weather conditions, classify as 'weather'.\n",
        "    - If it is asking about information from a provided document, classify as 'rag'.\n",
        "    - If the query does not fit into these categories, classify as 'general'.\n",
        "\n",
        "    Query: {query}\n",
        "    \"\"\"\n",
        "\n",
        "    action = llm.invoke(classification_prompt)\n",
        "\n",
        "    # Ensure action is valid\n",
        "    action_str = action.content.lower()\n",
        "    if action_str not in [\"weather\", \"rag\", \"general\"]:\n",
        "        action_str = \"general\"\n",
        "    else:\n",
        "        action_str = action.content.lower()\n",
        "\n",
        "    return {\"action\": action_str}\n",
        "\n",
        "def fetch_weather(state: PipelineState):\n",
        "    user_query = state[\"user_query\"]\n",
        "\n",
        "    llm = ChatGoogleGenerativeAI(model=\"gemini-1.5-flash-latest\", temperature=0)\n",
        "    # Prompt template for extracting city name\n",
        "    city_extraction_prompt = PromptTemplate.from_template(\n",
        "        \"Extract the city name from this query: {query}. If no city is found, return 'None'.\"\n",
        "    )\n",
        "    # Ask Gemini LLM to extract the city name\n",
        "    prompt = city_extraction_prompt.format(query=user_query)\n",
        "    city = llm.invoke(prompt)\n",
        "\n",
        "    if city.content.lower() == \"none\":\n",
        "        return {\"response\": \"I couldn't determine the city name. Please specify a valid location.\"}\n",
        "\n",
        "    api_key = os.getenv(\"OPENWEATHER_API_KEY\")\n",
        "    url = f\"http://api.openweathermap.org/data/2.5/weather?q={city.content}&appid={api_key}&units=metric\"\n",
        "\n",
        "    response = requests.get(url).json()\n",
        "\n",
        "    if response.get(\"main\"):\n",
        "        weather_info = f\"Current weather in {city.content}: {response['weather'][0]['description']}, Temperature: {response['main']['temp']}°C.\"\n",
        "    else:\n",
        "        weather_info = \"Weather data not available. Please check the city name.\"\n",
        "\n",
        "    return {\"response\": weather_info}\n",
        "\n",
        "\n",
        "def load_and_split_pdf(pdf_path):\n",
        "    loader = PyPDFLoader(pdf_path)\n",
        "    documents = loader.load()\n",
        "\n",
        "    # Split documents into smaller chunks\n",
        "    text_splitter = RecursiveCharacterTextSplitter(chunk_size=500, chunk_overlap=50)\n",
        "    docs = text_splitter.split_documents(documents)\n",
        "\n",
        "    return docs\n",
        "\n",
        "def get_gemini_embeddings(texts, batch_size = 10):\n",
        "    model = GoogleGenerativeAIEmbeddings(model=\"models/text-embedding-004\", task_type=\"retrieval_document\")\n",
        "    embeddings = []\n",
        "\n",
        "    for i in range(0, len(texts), batch_size):\n",
        "        batch = texts[i : i + batch_size]\n",
        "\n",
        "        try:\n",
        "            response = model.embed_documents(batch)\n",
        "            batch_embeddings = [item for item in response]\n",
        "            embeddings.extend(batch_embeddings)\n",
        "\n",
        "        except Exception as e:\n",
        "            print(f\"Error in batch {i}: {e}\")\n",
        "            time.sleep(5)\n",
        "    return np.array(embeddings)\n",
        "\n",
        "\n",
        "def store_in_pinecone(docs):\n",
        "    texts = [doc.page_content for doc in docs]\n",
        "    embeddings = get_gemini_embeddings(texts)\n",
        "\n",
        "    # Store vectors in Pinecone\n",
        "    for i, (text, vector) in enumerate(zip(texts, embeddings)):\n",
        "        index.upsert([(str(i), vector.tolist(), {\"text\": text})])\n",
        "    print(\"Stored documents in Pinecone successfully!\")\n",
        "\n",
        "def get_gemini_embedding(query):\n",
        "    \"\"\"Generate embeddings for the user query.\"\"\"\n",
        "    model = GoogleGenerativeAIEmbeddings(model=\"models/text-embedding-004\", task_type=\"retrieval_query\")\n",
        "    embedding = model.embed_query(query)\n",
        "    return np.array(embedding)\n",
        "\n",
        "def retrieve_relevant_docs(query, top_k=3):\n",
        "    \"\"\"Retrieve the most relevant documents from Pinecone.\"\"\"\n",
        "    query_vector = get_gemini_embedding(query).tolist()\n",
        "    results = index.query(vector=query_vector, top_k=top_k, include_metadata=True)\n",
        "\n",
        "    # Extract relevant texts\n",
        "    retrieved_texts = [match[\"metadata\"][\"text\"] for match in results[\"matches\"]]\n",
        "\n",
        "    return retrieved_texts\n",
        "\n",
        "\n",
        "def generate_rag_response(query):\n",
        "    \"\"\"Use RAG to fetch relevant documents and generate an answer.\"\"\"\n",
        "    retrieved_docs = retrieve_relevant_docs(query)\n",
        "    docs = \"\\n\\n\".join(retrieved_docs)\n",
        "\n",
        "    # Generate response using Gemini LLM\n",
        "    instructions = f\"\"\"You are a helpful assistant who is good at analyzing source information and answering questions.\n",
        "    Use the following source documents to answer the user's questions.\n",
        "    If you don't know the answer, just say that you don't know.\n",
        "    Use three sentences maximum and keep the answer concise.\n",
        "\n",
        "    Documents:\n",
        "    {docs}\"\"\"\n",
        "\n",
        "    llm_model = ChatGoogleGenerativeAI(model=\"gemini-1.5-flash-latest\")\n",
        "    response = llm_model.invoke([\n",
        "            {\"role\": \"system\", \"content\": instructions},\n",
        "            {\"role\": \"user\", \"content\": query},\n",
        "        ],\n",
        "    )\n",
        "    return response.content\n",
        "\n",
        "def retrieve_from_pinecone(state: PipelineState):\n",
        "    query = state[\"user_query\"]\n",
        "\n",
        "    # Load Pinecone as the retriever\n",
        "    response = generate_rag_response(query)\n",
        "\n",
        "    return {\"response\": response}\n",
        "\n",
        "def general_response(state: PipelineState):\n",
        "    query = state[\"user_query\"]\n",
        "\n",
        "    instructions = f\"\"\"\n",
        "    You are a helpful assistant, as a professional expert,\n",
        "    provide a concise and informative answer to the following question,\n",
        "    ensuring accuracy and addressing all relevant aspects, even if the\n",
        "    question appears broad or open-ended. Answer the following Question concisely.\n",
        "    \"\"\"\n",
        "\n",
        "    llm_model = ChatGoogleGenerativeAI(model=\"gemini-1.5-flash-latest\")\n",
        "\n",
        "    response = llm_model.invoke([\n",
        "            {\"role\": \"system\", \"content\": instructions},\n",
        "            {\"role\": \"user\", \"content\": query},\n",
        "        ],\n",
        "    )\n",
        "    return {\"response\": response.content}\n",
        "\n",
        "\n",
        "# Create LangGraph workflow\n",
        "workflow = StateGraph(PipelineState)\n",
        "\n",
        "# Add nodes\n",
        "workflow.add_node(\"decision\", decision_node)\n",
        "workflow.add_node(\"weather\", fetch_weather)\n",
        "workflow.add_node(\"rag\", retrieve_from_pinecone)\n",
        "workflow.add_node(\"general\", general_response)\n",
        "\n",
        "# Define edges (execution flow)\n",
        "workflow.set_entry_point(\"decision\")\n",
        "workflow.add_conditional_edges(\n",
        "    \"decision\",\n",
        "    lambda state: state[\"action\"],\n",
        "    {\n",
        "        \"weather\": \"weather\",\n",
        "        \"rag\": \"rag\",\n",
        "        \"general\": \"general\",\n",
        "    }\n",
        ")\n",
        "\n",
        "# Finalize the graph\n",
        "graph = workflow.compile()"
      ],
      "metadata": {
        "colab": {
          "base_uri": "https://localhost:8080/"
        },
        "id": "TF88NOX6HFbB",
        "outputId": "0996eff4-873c-4339-9d91-914f75350f42"
      },
      "execution_count": 26,
      "outputs": [
        {
          "output_type": "stream",
          "name": "stdout",
          "text": [
            "Writing /content/pipeline/pipeline.py\n"
          ]
        }
      ]
    },
    {
      "cell_type": "code",
      "source": [
        "%%writefile test/test_pipeline.py\n",
        "import pytest\n",
        "from unittest.mock import patch, MagicMock\n",
        "import sys\n",
        "import os\n",
        "\n",
        "# Add the project root to the Python path\n",
        "sys.path.insert(0, os.path.abspath(os.path.join(os.path.dirname(__file__), '..')))\n",
        "\n",
        "# Import the pipeline module\n",
        "from pipeline.pipeline import (\n",
        "    decision_node, fetch_weather, retrieve_from_pinecone,\n",
        "    general_response, get_gemini_embedding, generate_rag_response, retrieve_relevant_docs\n",
        ")\n",
        "\n",
        "### TEST CASES ###\n",
        "\n",
        "def test_decision_node():\n",
        "    \"\"\"Test classification of user queries into correct categories.\"\"\"\n",
        "    test_cases = [\n",
        "        (\"What's the weather in New York?\", \"weather\"),\n",
        "        (\"Tell me about quantum physics.\", \"general\"),\n",
        "        (\"Summarize this document.\", \"rag\")\n",
        "    ]\n",
        "\n",
        "    for query, expected_action in test_cases:\n",
        "        state = {\"user_query\": query}\n",
        "        result = decision_node(state)\n",
        "        assert result[\"action\"] == expected_action, f\"Failed for query: {query}\"\n",
        "\n",
        "@patch(\"pipeline.pipeline.requests.get\")\n",
        "def test_fetch_weather(mock_get):\n",
        "    \"\"\"Test weather API response handling.\"\"\"\n",
        "    mock_get.return_value.json.return_value = {\n",
        "        \"main\": {\"temp\": 22.5},\n",
        "        \"weather\": [{\"description\": \"clear sky\"}]\n",
        "    }\n",
        "\n",
        "    state = {\"user_query\": \"What is the weather in London?\"}\n",
        "    result = fetch_weather(state)\n",
        "\n",
        "    assert \"London\" in result[\"response\"]\n",
        "    assert \"clear sky\" in result[\"response\"]\n",
        "    assert \"22.5°C\" in result[\"response\"]\n",
        "\n",
        "@patch(\"pipeline.pipeline.GoogleGenerativeAIEmbeddings.embed_query\")\n",
        "def test_get_gemini_embedding(mock_embed):\n",
        "    \"\"\"Ensure query embeddings return correct shape.\"\"\"\n",
        "    mock_embed.return_value = [0.1] * 768  # Mock embedding vector\n",
        "    embedding = get_gemini_embedding(\"What is AI?\")\n",
        "    assert len(embedding) == 768, \"Embedding shape mismatch!\"\n",
        "\n",
        "@patch(\"pipeline.pipeline.ChatGoogleGenerativeAI.invoke\")\n",
        "def test_general_response(mock_invoke):\n",
        "    \"\"\"Test general response generation using LLM.\"\"\"\n",
        "    mock_invoke.return_value = MagicMock(content=\"Artificial Intelligence is a branch of science.\")\n",
        "\n",
        "    state = {\"user_query\": \"What is AI?\"}\n",
        "    result = general_response(state)\n",
        "\n",
        "    assert \"Artificial Intelligence\" in result[\"response\"]\n",
        "\n",
        "@patch(\"pipeline.pipeline.ChatGoogleGenerativeAI.invoke\")\n",
        "def test_generate_rag_response(mock_invoke):\n",
        "    \"\"\"Test RAG-based response generation.\"\"\"\n",
        "    mock_invoke.return_value = MagicMock(content=\"AI is a field of study focusing on machine intelligence.\")\n",
        "\n",
        "    response = generate_rag_response(\"Tell me about AI.\")\n",
        "\n",
        "    assert \"AI is a field of study\" in response"
      ],
      "metadata": {
        "colab": {
          "base_uri": "https://localhost:8080/"
        },
        "id": "b1jyXB0GHWuz",
        "outputId": "e9993220-6fa6-4aa9-aa59-56101df37034"
      },
      "execution_count": 27,
      "outputs": [
        {
          "output_type": "stream",
          "name": "stdout",
          "text": [
            "Writing test/test_pipeline.py\n"
          ]
        }
      ]
    },
    {
      "cell_type": "code",
      "source": [
        "!pytest test/test_pipeline.py -v"
      ],
      "metadata": {
        "colab": {
          "base_uri": "https://localhost:8080/"
        },
        "id": "tJ_y1AErH0ws",
        "outputId": "60409741-4992-44ab-896a-10a887ff9d3b"
      },
      "execution_count": 28,
      "outputs": [
        {
          "output_type": "stream",
          "name": "stdout",
          "text": [
            "/usr/local/lib/python3.11/dist-packages/pytest_asyncio/plugin.py:207: PytestDeprecationWarning: The configuration option \"asyncio_default_fixture_loop_scope\" is unset.\n",
            "The event loop scope for asynchronous fixtures will default to the fixture caching scope. Future versions of pytest-asyncio will default the loop scope for asynchronous fixtures to function scope. Set the default fixture loop scope explicitly in order to avoid unexpected behavior in the future. Valid fixture loop scopes are: \"function\", \"class\", \"module\", \"package\", \"session\"\n",
            "\n",
            "  warnings.warn(PytestDeprecationWarning(_DEFAULT_FIXTURE_LOOP_SCOPE_UNSET))\n",
            "\u001b[1m======================================= test session starts ========================================\u001b[0m\n",
            "platform linux -- Python 3.11.11, pytest-8.3.4, pluggy-1.5.0 -- /usr/bin/python3\n",
            "cachedir: .pytest_cache\n",
            "rootdir: /content\n",
            "plugins: socket-0.7.0, syrupy-4.8.2, asyncio-0.25.3, anyio-3.7.1, typeguard-4.4.2, langsmith-0.3.11\n",
            "asyncio: mode=Mode.STRICT, asyncio_default_fixture_loop_scope=None\n",
            "collected 5 items                                                                                  \u001b[0m\n",
            "\n",
            "test/test_pipeline.py::test_decision_node \u001b[32mPASSED\u001b[0m\u001b[32m                                             [ 20%]\u001b[0m\n",
            "test/test_pipeline.py::test_fetch_weather \u001b[32mPASSED\u001b[0m\u001b[32m                                             [ 40%]\u001b[0m\n",
            "test/test_pipeline.py::test_get_gemini_embedding \u001b[32mPASSED\u001b[0m\u001b[32m                                      [ 60%]\u001b[0m\n",
            "test/test_pipeline.py::test_general_response \u001b[32mPASSED\u001b[0m\u001b[32m                                          [ 80%]\u001b[0m\n",
            "test/test_pipeline.py::test_generate_rag_response \u001b[32mPASSED\u001b[0m\u001b[32m                                     [100%]\u001b[0m\n",
            "\n",
            "\u001b[32m======================================== \u001b[32m\u001b[1m5 passed\u001b[0m\u001b[32m in 4.10s\u001b[0m\u001b[32m =========================================\u001b[0m\n"
          ]
        }
      ]
    },
    {
      "cell_type": "code",
      "source": [
        "!pip install streamlit pyngrok"
      ],
      "metadata": {
        "id": "YFQTc6l05bGT"
      },
      "execution_count": null,
      "outputs": []
    },
    {
      "cell_type": "code",
      "source": [
        "%%writefile app.py\n",
        "import streamlit as st\n",
        "import sys\n",
        "import os\n",
        "\n",
        "# Add the project root to the Python path\n",
        "sys.path.insert(0, os.path.abspath(os.path.join(os.path.dirname(__file__), '..')))\n",
        "\n",
        "from langchain.schema import AIMessage, HumanMessage\n",
        "from langchain.memory import ConversationBufferMemory\n",
        "\n",
        "# Initialize LangGraph workflow\n",
        "from pipeline.pipeline import graph  # Import the LangGraph pipeline\n",
        "\n",
        "st.set_page_config(page_title=\"Chatbot with RAG & Weather\", page_icon=\"🤖\")\n",
        "\n",
        "st.title(\"🤖 Chatbot with RAG & Weather\")\n",
        "\n",
        "# Conversation memory\n",
        "if \"messages\" not in st.session_state:\n",
        "    st.session_state.messages = []\n",
        "\n",
        "# Display previous messages\n",
        "for msg in st.session_state.messages:\n",
        "    with st.chat_message(msg[\"role\"]):\n",
        "        st.write(msg[\"content\"])\n",
        "\n",
        "# Get user input\n",
        "user_query = st.chat_input(\"Ask me anything...\")\n",
        "\n",
        "if user_query:\n",
        "    # Save user query\n",
        "    st.session_state.messages.append({\"role\": \"user\", \"content\": user_query})\n",
        "\n",
        "    # Run the LangGraph pipeline\n",
        "    response = graph.invoke({\"user_query\": user_query})[\"response\"]\n",
        "\n",
        "    # Save bot response\n",
        "    st.session_state.messages.append({\"role\": \"assistant\", \"content\": response})\n",
        "\n",
        "    # Display response\n",
        "    with st.chat_message(\"assistant\"):\n",
        "        st.write(response)"
      ],
      "metadata": {
        "colab": {
          "base_uri": "https://localhost:8080/"
        },
        "id": "jFKqfZnA5fYH",
        "outputId": "1d18d265-7a3c-4506-fb3f-e98837b9a69a"
      },
      "execution_count": 30,
      "outputs": [
        {
          "output_type": "stream",
          "name": "stdout",
          "text": [
            "Writing app.py\n"
          ]
        }
      ]
    },
    {
      "cell_type": "code",
      "source": [
        "from pyngrok import ngrok\n",
        "\n",
        "\n",
        "!ngrok config add-authtoken <ngrok api keys>\n",
        "# Kill previous tunnels\n",
        "!pkill streamlit\n",
        "!pkill ngrok\n",
        "\n",
        "# Run Streamlit app in the background\n",
        "os.system(\"streamlit run app.py &\")\n",
        "\n",
        "# Expose the app via ngrok\n",
        "public_url = ngrok.connect(8501)\n",
        "print(\"Streamlit App URL:\", public_url)"
      ],
      "metadata": {
        "colab": {
          "base_uri": "https://localhost:8080/"
        },
        "id": "M0QFLX6H5zgR",
        "outputId": "d02466f7-8810-41f8-ad57-45803b25fffb"
      },
      "execution_count": 31,
      "outputs": [
        {
          "output_type": "stream",
          "name": "stdout",
          "text": [
            "Authtoken saved to configuration file: /root/.config/ngrok/ngrok.yml\n",
            "Streamlit App URL: NgrokTunnel: \"https://09b1-34-148-149-7.ngrok-free.app\" -> \"http://localhost:8501\"\n"
          ]
        }
      ]
    }
  ],
  "metadata": {
    "colab": {
      "provenance": [],
      "authorship_tag": "ABX9TyPWbwFi/Mlu5Ua+Rnme3air",
      "include_colab_link": true
    },
    "kernelspec": {
      "display_name": "Python 3",
      "name": "python3"
    },
    "language_info": {
      "name": "python"
    },
    "widgets": {
      "application/vnd.jupyter.widget-state+json": {
        "b5302176cbb849069da50e46483ac093": {
          "model_module": "@jupyter-widgets/controls",
          "model_name": "HBoxModel",
          "model_module_version": "1.5.0",
          "state": {
            "_dom_classes": [],
            "_model_module": "@jupyter-widgets/controls",
            "_model_module_version": "1.5.0",
            "_model_name": "HBoxModel",
            "_view_count": null,
            "_view_module": "@jupyter-widgets/controls",
            "_view_module_version": "1.5.0",
            "_view_name": "HBoxView",
            "box_style": "",
            "children": [
              "IPY_MODEL_88a2b72bf11b4ef5af57ff3e65dcd578",
              "IPY_MODEL_6295b201c83d499c925ca4140007af28",
              "IPY_MODEL_08cbe880c7b542fcb1febace0b58375e"
            ],
            "layout": "IPY_MODEL_36aa65391552403eae5a081b5cfd5819"
          }
        },
        "88a2b72bf11b4ef5af57ff3e65dcd578": {
          "model_module": "@jupyter-widgets/controls",
          "model_name": "HTMLModel",
          "model_module_version": "1.5.0",
          "state": {
            "_dom_classes": [],
            "_model_module": "@jupyter-widgets/controls",
            "_model_module_version": "1.5.0",
            "_model_name": "HTMLModel",
            "_view_count": null,
            "_view_module": "@jupyter-widgets/controls",
            "_view_module_version": "1.5.0",
            "_view_name": "HTMLView",
            "description": "",
            "description_tooltip": null,
            "layout": "IPY_MODEL_edb187f5218941d1869157a42624ca4b",
            "placeholder": "​",
            "style": "IPY_MODEL_7d00655246254c8f9d205ac7d140de74",
            "value": ""
          }
        },
        "6295b201c83d499c925ca4140007af28": {
          "model_module": "@jupyter-widgets/controls",
          "model_name": "FloatProgressModel",
          "model_module_version": "1.5.0",
          "state": {
            "_dom_classes": [],
            "_model_module": "@jupyter-widgets/controls",
            "_model_module_version": "1.5.0",
            "_model_name": "FloatProgressModel",
            "_view_count": null,
            "_view_module": "@jupyter-widgets/controls",
            "_view_module_version": "1.5.0",
            "_view_name": "ProgressView",
            "bar_style": "success",
            "description": "",
            "description_tooltip": null,
            "layout": "IPY_MODEL_c9506c24c79e42eb9c30af33899ec73a",
            "max": 1,
            "min": 0,
            "orientation": "horizontal",
            "style": "IPY_MODEL_22660f1a37fc4f6c8aba3762002db15a",
            "value": 1
          }
        },
        "08cbe880c7b542fcb1febace0b58375e": {
          "model_module": "@jupyter-widgets/controls",
          "model_name": "HTMLModel",
          "model_module_version": "1.5.0",
          "state": {
            "_dom_classes": [],
            "_model_module": "@jupyter-widgets/controls",
            "_model_module_version": "1.5.0",
            "_model_name": "HTMLModel",
            "_view_count": null,
            "_view_module": "@jupyter-widgets/controls",
            "_view_module_version": "1.5.0",
            "_view_name": "HTMLView",
            "description": "",
            "description_tooltip": null,
            "layout": "IPY_MODEL_72665e9082d5439fa853e6aeb44d0f91",
            "placeholder": "​",
            "style": "IPY_MODEL_ee3f1d82392c4ad8ba0506230481fcbe",
            "value": " 3/? [00:09&lt;00:00,  3.15s/it]"
          }
        },
        "36aa65391552403eae5a081b5cfd5819": {
          "model_module": "@jupyter-widgets/base",
          "model_name": "LayoutModel",
          "model_module_version": "1.2.0",
          "state": {
            "_model_module": "@jupyter-widgets/base",
            "_model_module_version": "1.2.0",
            "_model_name": "LayoutModel",
            "_view_count": null,
            "_view_module": "@jupyter-widgets/base",
            "_view_module_version": "1.2.0",
            "_view_name": "LayoutView",
            "align_content": null,
            "align_items": null,
            "align_self": null,
            "border": null,
            "bottom": null,
            "display": null,
            "flex": null,
            "flex_flow": null,
            "grid_area": null,
            "grid_auto_columns": null,
            "grid_auto_flow": null,
            "grid_auto_rows": null,
            "grid_column": null,
            "grid_gap": null,
            "grid_row": null,
            "grid_template_areas": null,
            "grid_template_columns": null,
            "grid_template_rows": null,
            "height": null,
            "justify_content": null,
            "justify_items": null,
            "left": null,
            "margin": null,
            "max_height": null,
            "max_width": null,
            "min_height": null,
            "min_width": null,
            "object_fit": null,
            "object_position": null,
            "order": null,
            "overflow": null,
            "overflow_x": null,
            "overflow_y": null,
            "padding": null,
            "right": null,
            "top": null,
            "visibility": null,
            "width": null
          }
        },
        "edb187f5218941d1869157a42624ca4b": {
          "model_module": "@jupyter-widgets/base",
          "model_name": "LayoutModel",
          "model_module_version": "1.2.0",
          "state": {
            "_model_module": "@jupyter-widgets/base",
            "_model_module_version": "1.2.0",
            "_model_name": "LayoutModel",
            "_view_count": null,
            "_view_module": "@jupyter-widgets/base",
            "_view_module_version": "1.2.0",
            "_view_name": "LayoutView",
            "align_content": null,
            "align_items": null,
            "align_self": null,
            "border": null,
            "bottom": null,
            "display": null,
            "flex": null,
            "flex_flow": null,
            "grid_area": null,
            "grid_auto_columns": null,
            "grid_auto_flow": null,
            "grid_auto_rows": null,
            "grid_column": null,
            "grid_gap": null,
            "grid_row": null,
            "grid_template_areas": null,
            "grid_template_columns": null,
            "grid_template_rows": null,
            "height": null,
            "justify_content": null,
            "justify_items": null,
            "left": null,
            "margin": null,
            "max_height": null,
            "max_width": null,
            "min_height": null,
            "min_width": null,
            "object_fit": null,
            "object_position": null,
            "order": null,
            "overflow": null,
            "overflow_x": null,
            "overflow_y": null,
            "padding": null,
            "right": null,
            "top": null,
            "visibility": null,
            "width": null
          }
        },
        "7d00655246254c8f9d205ac7d140de74": {
          "model_module": "@jupyter-widgets/controls",
          "model_name": "DescriptionStyleModel",
          "model_module_version": "1.5.0",
          "state": {
            "_model_module": "@jupyter-widgets/controls",
            "_model_module_version": "1.5.0",
            "_model_name": "DescriptionStyleModel",
            "_view_count": null,
            "_view_module": "@jupyter-widgets/base",
            "_view_module_version": "1.2.0",
            "_view_name": "StyleView",
            "description_width": ""
          }
        },
        "c9506c24c79e42eb9c30af33899ec73a": {
          "model_module": "@jupyter-widgets/base",
          "model_name": "LayoutModel",
          "model_module_version": "1.2.0",
          "state": {
            "_model_module": "@jupyter-widgets/base",
            "_model_module_version": "1.2.0",
            "_model_name": "LayoutModel",
            "_view_count": null,
            "_view_module": "@jupyter-widgets/base",
            "_view_module_version": "1.2.0",
            "_view_name": "LayoutView",
            "align_content": null,
            "align_items": null,
            "align_self": null,
            "border": null,
            "bottom": null,
            "display": null,
            "flex": null,
            "flex_flow": null,
            "grid_area": null,
            "grid_auto_columns": null,
            "grid_auto_flow": null,
            "grid_auto_rows": null,
            "grid_column": null,
            "grid_gap": null,
            "grid_row": null,
            "grid_template_areas": null,
            "grid_template_columns": null,
            "grid_template_rows": null,
            "height": null,
            "justify_content": null,
            "justify_items": null,
            "left": null,
            "margin": null,
            "max_height": null,
            "max_width": null,
            "min_height": null,
            "min_width": null,
            "object_fit": null,
            "object_position": null,
            "order": null,
            "overflow": null,
            "overflow_x": null,
            "overflow_y": null,
            "padding": null,
            "right": null,
            "top": null,
            "visibility": null,
            "width": "20px"
          }
        },
        "22660f1a37fc4f6c8aba3762002db15a": {
          "model_module": "@jupyter-widgets/controls",
          "model_name": "ProgressStyleModel",
          "model_module_version": "1.5.0",
          "state": {
            "_model_module": "@jupyter-widgets/controls",
            "_model_module_version": "1.5.0",
            "_model_name": "ProgressStyleModel",
            "_view_count": null,
            "_view_module": "@jupyter-widgets/base",
            "_view_module_version": "1.2.0",
            "_view_name": "StyleView",
            "bar_color": null,
            "description_width": ""
          }
        },
        "72665e9082d5439fa853e6aeb44d0f91": {
          "model_module": "@jupyter-widgets/base",
          "model_name": "LayoutModel",
          "model_module_version": "1.2.0",
          "state": {
            "_model_module": "@jupyter-widgets/base",
            "_model_module_version": "1.2.0",
            "_model_name": "LayoutModel",
            "_view_count": null,
            "_view_module": "@jupyter-widgets/base",
            "_view_module_version": "1.2.0",
            "_view_name": "LayoutView",
            "align_content": null,
            "align_items": null,
            "align_self": null,
            "border": null,
            "bottom": null,
            "display": null,
            "flex": null,
            "flex_flow": null,
            "grid_area": null,
            "grid_auto_columns": null,
            "grid_auto_flow": null,
            "grid_auto_rows": null,
            "grid_column": null,
            "grid_gap": null,
            "grid_row": null,
            "grid_template_areas": null,
            "grid_template_columns": null,
            "grid_template_rows": null,
            "height": null,
            "justify_content": null,
            "justify_items": null,
            "left": null,
            "margin": null,
            "max_height": null,
            "max_width": null,
            "min_height": null,
            "min_width": null,
            "object_fit": null,
            "object_position": null,
            "order": null,
            "overflow": null,
            "overflow_x": null,
            "overflow_y": null,
            "padding": null,
            "right": null,
            "top": null,
            "visibility": null,
            "width": null
          }
        },
        "ee3f1d82392c4ad8ba0506230481fcbe": {
          "model_module": "@jupyter-widgets/controls",
          "model_name": "DescriptionStyleModel",
          "model_module_version": "1.5.0",
          "state": {
            "_model_module": "@jupyter-widgets/controls",
            "_model_module_version": "1.5.0",
            "_model_name": "DescriptionStyleModel",
            "_view_count": null,
            "_view_module": "@jupyter-widgets/base",
            "_view_module_version": "1.2.0",
            "_view_name": "StyleView",
            "description_width": ""
          }
        }
      }
    }
  },
  "nbformat": 4,
  "nbformat_minor": 0
}